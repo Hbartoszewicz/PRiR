def metoda_prostokatow(f, a, b, n):
    dx = (b - a) / i
    calka = 0
    for x in range(n):
        x = x * dx + a
        calka += dx * eval(f)
    return calka


f = input("Funkcja: ")
a = float(input("Poczatek przedzialu: "))
b = float(input("Koniec przedzialu: "))
n = int(input("Dokladonosc: "))
print("Całka z funkcji {funkcjon} po przedziale od {a} do {b} = {integrate}".format(funkcjon = f, a = a, b = b, integrate = metoda_prostokatow(f, a, b, n)))

def metoda_trapezow(f, a, b, n):
    dx = (b - a) / n
    calka = 0
    for x in range(n):
        x = x * dx + a
        fx1 = eval(f)
        x += dx
        fx2 = eval(f)
        calka += 0.5 * dx * (fx1 + fx2)
    return calka


f = input("Funkcja: ")
a = float(input("Poczatek przedzialu: "))
b = float(input("Koniec przedzialu: "))
n = int(input("Dokladonosc: "))
print("Całka z funkcji {funkcjon} po przedziale od {a} do {b} = {integrate}".format(funkcjon = f, a = a, b = b, integrate = metoda_trapezow(f, a, b, n)))

def metoda_simpsona(f, a, b, n):
  dx = (b-a)/n
  calka = 0  
  for i in range(0, n, 2):
    x = a + dx * 2 * i
    calka += dx * (f(x) + 4 * f(x + dx) + f(x + 2 * dx)) / 3
  return calka


a = float(input("Poczatek przedzialu: "))
b = float(input("Koniec przedzialu: "))
n = int(input("Dokladonosc: "))
print("Całka z funkcji x*x+3 po przedziale od {a} do {b} = {integrate}".format(a = a, b = b, integrate = metoda_simpsona(lambda x: x*x+3, a, b, n)))
